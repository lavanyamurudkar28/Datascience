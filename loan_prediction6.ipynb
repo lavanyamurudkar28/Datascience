{
  "nbformat": 4,
  "nbformat_minor": 0,
  "metadata": {
    "colab": {
      "provenance": [],
      "authorship_tag": "ABX9TyMkNJzHJlTHgs4odDpt3/5c",
      "include_colab_link": true
    },
    "kernelspec": {
      "name": "python3",
      "display_name": "Python 3"
    },
    "language_info": {
      "name": "python"
    }
  },
  "cells": [
    {
      "cell_type": "markdown",
      "metadata": {
        "id": "view-in-github",
        "colab_type": "text"
      },
      "source": [
        "<a href=\"https://colab.research.google.com/github/lavanyamurudkar28/Datascience/blob/main/loan_prediction6.ipynb\" target=\"_parent\"><img src=\"https://colab.research.google.com/assets/colab-badge.svg\" alt=\"Open In Colab\"/></a>"
      ]
    },
    {
      "cell_type": "code",
      "execution_count": 1,
      "metadata": {
        "colab": {
          "base_uri": "https://localhost:8080/",
          "height": 105
        },
        "id": "h6i-VfOigq9N",
        "outputId": "c529d066-0582-48c5-9571-f1a9ef603d0e"
      },
      "outputs": [
        {
          "output_type": "execute_result",
          "data": {
            "text/plain": [
              "\"\\n#Principal Component Analysis\\n\\nfrom sklearn.decomposition import PCA\\nfrom sklearn.linear_model import LogisticRegression\\nfrom sklearn.model_selection import train_test_split\\nfrom sklearn.metrics import accuracy_score\\n\\nlogr=LogisticRegression()\\npca=PCA(n_components=2)\\n\\nX = df.drop('Id', axis=1)\\nX = X.drop('Species', axis=1)\\nY = df['Species']\\n\\npca.fit(X)\\nX=pca.transform(X)\\n\\nprint(X)\\n\\nX_train, X_test, y_train, y_test = train_test_split(X,Y,random_state=0,test_size=0.3)\\n\\nlogr.fit(X_train,y_train)\\n\\ny_pred=logr.predict(X_test)\\nprint(accuracy_score(y_test,y_pred))\\n\""
            ],
            "application/vnd.google.colaboratory.intrinsic+json": {
              "type": "string"
            }
          },
          "metadata": {},
          "execution_count": 1
        }
      ],
      "source": [
        "import pandas as pd              #pd is an Alias\n",
        "\n",
        "#Dealing with Missing Values\n",
        "#Dealing with outliers\n",
        "#Converting into categorical or numerical\n",
        "#Dealing with Imbalance\n",
        "#Feature selection\n",
        "#Dimentionality Reduction\n",
        "\n",
        "df=pd.read_csv(\"train.csv\")\n",
        "\n",
        "#Preparing X and Y\n",
        "\n",
        "X = df.drop('Loan_ID', axis=1) # Changed 'Loan_Id' to 'Loan_ID'\n",
        "X = X.drop('Loan_Status', axis=1)\n",
        "Y = df['Loan_Status']\n",
        "#print(X)\n",
        "#print(Y)\n",
        "\n",
        "# Feature Selection 1\n",
        "'''\n",
        "from sklearn.feature_selection import SelectKBest\n",
        "from sklearn.feature_selection import chi2\n",
        "\n",
        "bestfeatures = SelectKBest(score_func=chi2, k='all')\n",
        "fit = bestfeatures.fit(X,Y)\n",
        "dfscores = pd.DataFrame(fit.scores_)\n",
        "dfcolumns = pd.DataFrame(X.columns)\n",
        "featuresScores = pd.concat([dfcolumns, dfscores], axis=1)\n",
        "featuresScores.columns = ['Specs', 'Score']\n",
        "\n",
        "print(featuresScores)\n",
        "'''\n",
        "'''\n",
        "#Feature Selection 2\n",
        "\n",
        "from sklearn.ensemble import ExtraTreesClassifier\n",
        "import matplotlib.pyplot as plt\n",
        "\n",
        "model = ExtraTreesClassifier()\n",
        "model.fit(X,Y)\n",
        "print(model.feature_importances_)\n",
        "\n",
        "feat_importance = pd.Series(model.feature_importances_, index=X.columns)\n",
        "feat_importance.nlargest(4).plot(kind='barh')\n",
        "plt.show()\n",
        "'''\n",
        "\n",
        "#Numerical to Categorical\n",
        "\n",
        "from sklearn.preprocessing import LabelEncoder\n",
        "\n",
        "\n",
        "'''\n",
        "df['SepalLengthCm']=pd.cut(df['SepalLengthCm'],3,labels=['0','1','2'])\n",
        "df['SepalWidthCm']=pd.cut(df['SepalWidthCm'],3,labels=['0','1','2'])\n",
        "df['PetalLengthCm']=pd.cut(df['PetalLengthCm'],3,labels=['0','1','2'])\n",
        "df['PetalWidthCm']=pd.cut(df['PetalWidthCm'],3,labels=['0','1','2'])\n",
        "\n",
        "print(df)\n",
        "'''\n",
        "\n",
        "\n",
        "'''\n",
        "X = df.drop('Id', axis=1)\n",
        "X = X.drop('Species', axis=1)\n",
        "Y = df['Species']\n",
        "print(Y)\n",
        "le=LabelEncoder()\n",
        "le.fit(Y)\n",
        "Y = le.transform(Y)\n",
        "print(Y)\n",
        "\n",
        "'''\n",
        "\n",
        "\n",
        "#Categorical to Numerical\n",
        "'''\n",
        "le=LabelEncoder()\n",
        "le.fit(Y)\n",
        "Y = le.transform(Y)\n",
        "\n",
        "'''\n",
        "\n",
        "#Dealing with missing values\n",
        "\n",
        "'''\n",
        "1. Use Drop (df.drop())\n",
        "2. use Replace (df.replace(\"back\",\"DOS\"))\n",
        "3. Fill NA ()\n",
        "\n",
        "print(df.isnull().sum())\n",
        "df['Item_Weight'].fillna((df['Item_Weight'].mean()/.median()/.mode()), inplace=True) #Imputing Neurimical Values\n",
        "\n",
        "df['Outlet_Size'].fillna(('Medium'), inplace=True)  #Imputing Categorical Values\n",
        "'''\n",
        "\n",
        "\n",
        "#Oversampling and Under Sampling\n",
        "\n",
        "'''\n",
        "#a = (df['Species'] == 'Iris-setosa').sum()\n",
        "#print(a)\n",
        "from collections import Counter\n",
        "print(Counter(Y))\n",
        "from imblearn.over_sampling import RandomOverSampler     #Random OverSampling\n",
        "ros=RandomOverSampler(random_state=0)\n",
        "X, Y = ros.fit_resample(X,Y)\n",
        "print(Counter(Y))\n",
        "'''\n",
        "\n",
        "'''\n",
        "from imblearn.over_sampling import SMOTE                 #Synthetic Minority Oversampling (SMOTE) oversampling\n",
        "sms=SMOTE(random_state=0)\n",
        "X, Y=sms.fit_resample(X,Y)\n",
        "\n",
        "from imblearn.under_sampling import RandomUnderSampler   #Random UnderSampling\n",
        "rus=RandomUnderSampler(random_state=0)\n",
        "X, Y=rus.fit_resample(X,Y)\n",
        "\n",
        "'''\n",
        "\n",
        "'''\n",
        "#Identifying Outliers by ploting\n",
        "\n",
        "from matplotlib import pyplot as plt\n",
        "import seaborn as sns\n",
        "sns.boxplot(df['SepalLengthCm'])\n",
        "plt.show()\n",
        "'''\n",
        "\n",
        "\n",
        "#Dealing with Outliers using Interquantile Range\n",
        "'''\n",
        "print(df['SepalLengthCm'])\n",
        "Q1 = df['SepalLengthCm'].quantile(0.25)\n",
        "Q3 = df['SepalLengthCm'].quantile(0.75)\n",
        "\n",
        "IQR = Q3 - Q1\n",
        "print(IQR)\n",
        "\n",
        "upper = Q3 + 1.5*IQR\n",
        "lower = Q1 - 1.5*IQR\n",
        "\n",
        "print(upper)\n",
        "print(lower)\n",
        "\n",
        "out1=df[df['SepalLengthCm'] < lower].values\n",
        "out2=df[df['SepalLengthCm'] > upper].values\n",
        "\n",
        "df['SepalLengthCm'].replace(out1,lower,inplace=True)\n",
        "df['SepalLengthCm'].replace(out2,upper,inplace=True)\n",
        "\n",
        "print(df['SepalLengthCm'])\n",
        "'''\n",
        "\n",
        "'''\n",
        "#Principal Component Analysis\n",
        "\n",
        "from sklearn.decomposition import PCA\n",
        "from sklearn.linear_model import LogisticRegression\n",
        "from sklearn.model_selection import train_test_split\n",
        "from sklearn.metrics import accuracy_score\n",
        "\n",
        "logr=LogisticRegression()\n",
        "pca=PCA(n_components=2)\n",
        "\n",
        "X = df.drop('Id', axis=1)\n",
        "X = X.drop('Species', axis=1)\n",
        "Y = df['Species']\n",
        "\n",
        "pca.fit(X)\n",
        "X=pca.transform(X)\n",
        "\n",
        "print(X)\n",
        "\n",
        "X_train, X_test, y_train, y_test = train_test_split(X,Y,random_state=0,test_size=0.3)\n",
        "\n",
        "logr.fit(X_train,y_train)\n",
        "\n",
        "y_pred=logr.predict(X_test)\n",
        "print(accuracy_score(y_test,y_pred))\n",
        "'''"
      ]
    },
    {
      "cell_type": "code",
      "source": [
        "# Feature Selection 1\n",
        "\n",
        "from sklearn.feature_selection import SelectKBest\n",
        "from sklearn.feature_selection import chi2\n",
        "from sklearn.preprocessing import LabelEncoder\n",
        "import pandas as pd # Import pandas for DataFrame manipulation\n",
        "\n",
        "# Initialize LabelEncoder\n",
        "le = LabelEncoder()\n",
        "\n",
        "# Iterate over columns and encode categorical features\n",
        "for col in X.columns:\n",
        "    if X[col].dtype == 'object':  # Check if the column is of object (string) type\n",
        "        X[col] = le.fit_transform(X[col])  # Encode categorical values to numerical\n",
        "\n",
        "# Fill missing values (NaN) with a suitable strategy, e.g., mean for numerical columns\n",
        "X = X.fillna(X.mean()) # Fill NaN with the mean of each column\n",
        "\n",
        "bestfeatures = SelectKBest(score_func=chi2, k='all')\n",
        "fit = bestfeatures.fit(X,Y)\n",
        "dfscores = pd.DataFrame(fit.scores_)\n",
        "dfcolumns = pd.DataFrame(X.columns)\n",
        "featuresScores = pd.concat([dfcolumns, dfscores], axis=1)\n",
        "featuresScores.columns = ['Specs', 'Score']\n",
        "\n",
        "print(featuresScores)"
      ],
      "metadata": {
        "colab": {
          "base_uri": "https://localhost:8080/"
        },
        "id": "_k0bd2UVhSEh",
        "outputId": "3a3c774a-b8aa-42bc-a9ab-33fcd5df7999"
      },
      "execution_count": 2,
      "outputs": [
        {
          "output_type": "stream",
          "name": "stdout",
          "text": [
            "                Specs         Score\n",
            "0              Gender      0.009816\n",
            "1             Married      2.047144\n",
            "2          Dependents      0.048953\n",
            "3           Education      3.540502\n",
            "4       Self_Employed      0.087261\n",
            "5     ApplicantIncome     93.904964\n",
            "6   CoapplicantIncome  11342.041603\n",
            "7          LoanAmount     39.211545\n",
            "8    Loan_Amount_Term      3.267315\n",
            "9      Credit_History     25.998867\n",
            "10      Property_Area      0.377837\n"
          ]
        }
      ]
    },
    {
      "cell_type": "code",
      "source": [
        "#Feature Selection 2\n",
        "\n",
        "from sklearn.ensemble import ExtraTreesClassifier\n",
        "import matplotlib.pyplot as plt\n",
        "\n",
        "model = ExtraTreesClassifier()\n",
        "model.fit(X,Y)\n",
        "print(model.feature_importances_)\n",
        "\n",
        "feat_importance = pd.Series(model.feature_importances_, index=X.columns)\n",
        "feat_importance.nlargest(4).plot(kind='barh')\n",
        "plt.show()"
      ],
      "metadata": {
        "colab": {
          "base_uri": "https://localhost:8080/",
          "height": 465
        },
        "id": "ISc9n_Eaha4D",
        "outputId": "f0cb58de-d8ae-4128-ba7d-291f443c5f04"
      },
      "execution_count": 3,
      "outputs": [
        {
          "output_type": "stream",
          "name": "stdout",
          "text": [
            "[0.03080333 0.02386466 0.06175641 0.01752724 0.03623108 0.16684804\n",
            " 0.10836211 0.16568656 0.05035622 0.29387437 0.04468998]\n"
          ]
        },
        {
          "output_type": "display_data",
          "data": {
            "text/plain": [
              "<Figure size 640x480 with 1 Axes>"
            ],
            "image/png": "[encoded data removed]"
          },
          "metadata": {}
        }
      ]
    },
    {
      "cell_type": "code",
      "source": [
        "#Numerical to Categorical\n",
        "\n",
        "from sklearn.preprocessing import LabelEncoder\n",
        "\n",
        "# Reset the DataFrame to its original state if needed (optional)\n",
        "df = pd.read_csv(\"train.csv\")  # Reload the data if you want to start fresh\n",
        "X = df.drop('Loan_ID', axis=1) # Use 'Loan_ID' (case-sensitive)\n",
        "X = X.drop('Loan_Status', axis=1)\n",
        "Y = df['Loan_Status']\n",
        "\n",
        "# Now apply pd.cut\n",
        "df['ApplicantIncome']=pd.cut(df['ApplicantIncome'],3,labels=['0','1','2'])\n",
        "df['CoapplicantIncome']=pd.cut(df['CoapplicantIncome'],3,labels=['0','1','2'])\n",
        "df['LoanAmount']=pd.cut(df['LoanAmount'],3,labels=['0','1','2'])\n",
        "df['Loan_Amount_Term']=pd.cut(df['Loan_Amount_Term'],3,labels=['0','1','2'])\n",
        "\n",
        "print(df)\n",
        "\n",
        "X = df.drop('Loan_ID', axis=1) # Use 'Loan_ID' (case-sensitive)\n",
        "X = X.drop('Loan_Status', axis=1)\n",
        "Y = df['Loan_Status']\n",
        "print(Y)\n",
        "le=LabelEncoder()\n",
        "le.fit(Y)\n",
        "Y = le.transform(Y)\n",
        "print(Y)"
      ],
      "metadata": {
        "colab": {
          "base_uri": "https://localhost:8080/"
        },
        "id": "73Wtx6WEhhE2",
        "outputId": "55c1adb6-5c01-4b33-a701-d015c2254ebc"
      },
      "execution_count": 4,
      "outputs": [
        {
          "output_type": "stream",
          "name": "stdout",
          "text": [
            "      Loan_ID  Gender Married Dependents     Education Self_Employed  \\\n",
            "0    LP001002    Male      No          0      Graduate            No   \n",
            "1    LP001003    Male     Yes          1      Graduate            No   \n",
            "2    LP001005    Male     Yes          0      Graduate           Yes   \n",
            "3    LP001006    Male     Yes          0  Not Graduate            No   \n",
            "4    LP001008    Male      No          0      Graduate            No   \n",
            "..        ...     ...     ...        ...           ...           ...   \n",
            "609  LP002978  Female      No          0      Graduate            No   \n",
            "610  LP002979    Male     Yes         3+      Graduate            No   \n",
            "611  LP002983    Male     Yes          1      Graduate            No   \n",
            "612  LP002984    Male     Yes          2      Graduate            No   \n",
            "613  LP002990  Female      No          0      Graduate           Yes   \n",
            "\n",
            "    ApplicantIncome CoapplicantIncome LoanAmount Loan_Amount_Term  \\\n",
            "0                 0                 0        NaN                2   \n",
            "1                 0                 0          0                2   \n",
            "2                 0                 0          0                2   \n",
            "3                 0                 0          0                2   \n",
            "4                 0                 0          0                2   \n",
            "..              ...               ...        ...              ...   \n",
            "609               0                 0          0                2   \n",
            "610               0                 0          0                1   \n",
            "611               0                 0          1                2   \n",
            "612               0                 0          0                2   \n",
            "613               0                 0          0                2   \n",
            "\n",
            "     Credit_History Property_Area Loan_Status  \n",
            "0               1.0         Urban           Y  \n",
            "1               1.0         Rural           N  \n",
            "2               1.0         Urban           Y  \n",
            "3               1.0         Urban           Y  \n",
            "4               1.0         Urban           Y  \n",
            "..              ...           ...         ...  \n",
            "609             1.0         Rural           Y  \n",
            "610             1.0         Rural           Y  \n",
            "611             1.0         Urban           Y  \n",
            "612             1.0         Urban           Y  \n",
            "613             0.0     Semiurban           N  \n",
            "\n",
            "[614 rows x 13 columns]\n",
            "0      Y\n",
            "1      N\n",
            "2      Y\n",
            "3      Y\n",
            "4      Y\n",
            "      ..\n",
            "609    Y\n",
            "610    Y\n",
            "611    Y\n",
            "612    Y\n",
            "613    N\n",
            "Name: Loan_Status, Length: 614, dtype: object\n",
            "[1 0 1 1 1 1 1 0 1 0 1 1 1 0 1 1 1 0 0 1 0 1 0 0 0 1 1 1 0 1 0 0 0 1 0 1 0\n",
            " 1 1 1 0 1 1 1 1 1 1 1 0 1 1 1 0 0 0 1 1 0 1 1 1 1 0 0 0 0 0 1 1 0 1 1 1 0\n",
            " 1 0 0 0 0 1 1 1 0 0 1 1 1 1 1 1 1 1 1 1 1 0 1 1 1 1 1 1 1 1 1 1 1 0 0 1 1\n",
            " 1 0 1 1 1 1 1 0 1 1 1 1 1 1 1 1 1 0 0 1 1 1 1 1 0 0 1 0 0 0 1 1 1 1 1 1 1\n",
            " 0 1 0 1 0 0 1 1 1 1 1 1 1 0 0 1 1 1 0 1 0 1 1 1 0 1 0 1 1 0 1 0 0 0 1 0 1\n",
            " 1 0 1 1 1 1 0 0 1 1 0 1 1 1 0 1 1 0 1 1 1 1 1 1 0 0 0 1 1 1 1 0 1 0 1 0 1\n",
            " 1 1 1 0 0 1 1 1 1 1 1 1 1 1 0 1 1 1 1 0 1 1 1 0 1 1 1 1 0 0 1 1 0 1 0 0 0\n",
            " 0 1 1 0 1 1 1 1 1 0 1 1 1 1 1 1 1 1 1 1 1 0 1 1 1 0 1 0 1 1 1 1 0 1 0 1 1\n",
            " 1 1 0 0 0 1 1 1 1 0 1 0 0 1 1 1 1 1 0 1 1 1 1 0 1 1 1 1 1 0 1 1 0 1 1 1 1\n",
            " 1 1 1 1 1 0 1 0 0 1 1 1 1 0 1 1 1 1 0 1 0 1 1 1 0 0 1 0 1 1 1 1 0 0 0 1 0\n",
            " 1 1 1 0 1 1 1 1 0 1 1 1 1 1 0 1 1 0 1 1 1 1 1 1 1 1 0 1 1 0 0 0 1 1 0 1 1\n",
            " 1 0 0 0 1 0 1 0 1 0 0 1 1 1 0 1 0 1 1 0 1 1 1 1 0 1 1 1 1 1 1 0 1 1 1 1 1\n",
            " 1 1 1 0 0 0 0 1 0 1 1 1 1 0 1 0 1 1 1 1 0 1 0 1 1 0 1 0 1 1 1 1 1 0 1 0 1\n",
            " 1 1 1 1 1 0 0 1 0 1 1 1 1 0 1 1 1 1 0 1 1 1 0 1 1 1 0 1 1 0 1 1 0 0 1 1 0\n",
            " 0 0 1 1 1 1 0 1 1 1 1 1 1 1 0 0 1 1 1 1 0 1 1 0 1 1 1 1 0 1 0 1 0 1 1 0 0\n",
            " 1 1 1 1 1 1 1 1 1 0 1 1 0 0 0 1 0 1 0 0 1 0 1 1 1 1 0 1 0 0 0 1 1 1 0 1 0\n",
            " 1 1 1 1 0 0 1 1 0 1 1 1 1 0 1 1 1 1 1 1 1 0]\n"
          ]
        }
      ]
    },
    {
      "cell_type": "code",
      "source": [
        "#Categorical to Numerical\n",
        "\n",
        "le=LabelEncoder()\n",
        "le.fit(Y)\n",
        "Y = le.transform(Y)"
      ],
      "metadata": {
        "id": "Rdo5nAomhk7h"
      },
      "execution_count": 5,
      "outputs": []
    },
    {
      "cell_type": "code",
      "source": [
        "#Dealing with missing values\n",
        "\n",
        "print(df.isnull().sum())\n",
        "\n",
        "# Replace 'Actual_Column_Name1' and 'Actual_Column_Name2' with the actual column names from your dataset\n",
        "df['ApplicantIncome'].fillna((df['ApplicantIncome'].mode()[0]), inplace=True)  #Imputing Categorical Values\n",
        "\n",
        "# Get the existing categories for 'Loan_Amount_Term'\n",
        "existing_categories = df['Loan_Amount_Term'].cat.categories\n",
        "\n",
        "# Check if 'Medium' is in the existing categories\n",
        "if 'Medium' not in existing_categories:\n",
        "    # Add 'Medium' to the categories if it's not present\n",
        "    df['Loan_Amount_Term'] = df['Loan_Amount_Term'].cat.add_categories(['Medium'])\n",
        "\n",
        "df['Loan_Amount_Term'].fillna(('Medium'), inplace=True)  #Imputing Categorical Values\n",
        ""
      ],
      "metadata": {
        "colab": {
          "base_uri": "https://localhost:8080/"
        },
        "id": "uUyWN3MzhpKH",
        "outputId": "cdd65236-7f5c-4d38-a940-65db159e1cce"
      },
      "execution_count": 6,
      "outputs": [
        {
          "output_type": "stream",
          "name": "stdout",
          "text": [
            "Loan_ID               0\n",
            "Gender               13\n",
            "Married               3\n",
            "Dependents           15\n",
            "Education             0\n",
            "Self_Employed        32\n",
            "ApplicantIncome       0\n",
            "CoapplicantIncome     0\n",
            "LoanAmount           22\n",
            "Loan_Amount_Term     14\n",
            "Credit_History       50\n",
            "Property_Area         0\n",
            "Loan_Status           0\n",
            "dtype: int64\n"
          ]
        }
      ]
    },
    {
      "cell_type": "code",
      "source": [
        "#Dealing with missing values\n",
        "\n",
        "print(df.isnull().sum())\n",
        "\n",
        "# Replace 'Actual_Column_Name1' and 'Actual_Column_Name2' with the actual column names from your dataset\n",
        "df['ApplicantIncome'].fillna((df['ApplicantIncome'].mode()[0]), inplace=True)  #Imputing Categorical Values\n",
        "\n",
        "# Get the existing categories for 'Loan_Amount_Term'\n",
        "existing_categories = df['Loan_Amount_Term'].cat.categories\n",
        "\n",
        "# Check if 'Medium' is in the existing categories\n",
        "if 'Medium' not in existing_categories:\n",
        "    # Add 'Medium' to the categories if it's not present\n",
        "    df['Loan_Amount_Term'] = df['Loan_Amount_Term'].cat.add_categories(['Medium'])\n",
        "\n",
        "df['Loan_Amount_Term'].fillna(('Medium'), inplace=True)  #Imputing Categorical Values\n",
        "\n",
        "# Handle missing values in X before applying SMOTE\n",
        "X.fillna(X.mode().iloc[0], inplace=True)  # Fill missing values with the mode of each column\n",
        "\n",
        "#Oversampling and Under Sampling\n",
        "\n",
        "#a = (df['Loan_Status'] == 'Y').sum()\n",
        "#print(a)\n",
        "from collections import Counter\n",
        "print(Counter(Y))\n",
        "from imblearn.over_sampling import RandomOverSampler     #Random OverSampling\n",
        "ros=RandomOverSampler(random_state=0)\n",
        "X, Y = ros.fit_resample(X,Y)\n",
        "print(Counter(Y))\n",
        "from imblearn.over_sampling import SMOTE                 #Synthetic Minority Oversampling (SMOTE) oversampling\n",
        "sms=SMOTE(random_state=0)\n",
        "X, Y=sms.fit_resample(X,Y)  # Now X should not have NaNs\n",
        "\n",
        "from imblearn.under_sampling import RandomUnderSampler   #Random UnderSampling\n",
        "rus=RandomUnderSampler(random_state=0)\n",
        "X, Y=rus.fit_resample(X,Y)\n",
        "\n",
        "\n",
        "#Identifying Outliers by ploting\n",
        "\n",
        "from matplotlib import pyplot as plt\n",
        "import seaborn as sns\n",
        "sns.boxplot(df['Gender'])\n",
        "plt.show()"
      ],
      "metadata": {
        "colab": {
          "base_uri": "https://localhost:8080/",
          "height": 689
        },
        "id": "41hS_JauhtD6",
        "outputId": "aa788d2f-95e9-423c-fca6-9de03dfc4bcc"
      },
      "execution_count": 8,
      "outputs": [
        {
          "output_type": "stream",
          "name": "stdout",
          "text": [
            "Loan_ID               0\n",
            "Gender               13\n",
            "Married               3\n",
            "Dependents           15\n",
            "Education             0\n",
            "Self_Employed        32\n",
            "ApplicantIncome       0\n",
            "CoapplicantIncome     0\n",
            "LoanAmount           22\n",
            "Loan_Amount_Term      0\n",
            "Credit_History       50\n",
            "Property_Area         0\n",
            "Loan_Status           0\n",
            "dtype: int64\n",
            "Counter({1: 422, 0: 422})\n",
            "Counter({1: 422, 0: 422})\n"
          ]
        },
        {
          "output_type": "display_data",
          "data": {
            "text/plain": [
              "<Figure size 640x480 with 1 Axes>"
            ],
            "image/png": "[encoded data removed]"
          },
          "metadata": {}
        }
      ]
    },
    {
      "cell_type": "code",
      "source": [
        "#Dealing with Outliers using Interquantile Range\n",
        "'''\n",
        "print(df['ApplicantIncome'])\n",
        "Q1 = df['ApplicantIncome'].quantile(0.25)\n",
        "Q3 = df['ApplicantIncome'].quantile(0.75)\n",
        "\n",
        "IQR = Q3 - Q1\n",
        "print(IQR)\n",
        "\n",
        "upper = Q3 + 1.5*IQR\n",
        "lower = Q1 - 1.5*IQR\n",
        "\n",
        "print(upper)\n",
        "print(lower)\n",
        "\n",
        "out1=df[df['ApplicantIncome'] < lower].values\n",
        "out2=df[df['ApplicantIncome'] > upper].values\n",
        "\n",
        "df['ApplicantIncome'].replace(out1,lower,inplace=True)\n",
        "df['ApplicantIncome'].replace(out2,upper,inplace=True)\n",
        "\n",
        "print(df['ApplicantIncome'])\n",
        "'''"
      ],
      "metadata": {
        "colab": {
          "base_uri": "https://localhost:8080/",
          "height": 88
        },
        "id": "meyi70Nih1QK",
        "outputId": "3a0fbaec-d331-45a5-f450-bf89f8b9a153"
      },
      "execution_count": 9,
      "outputs": [
        {
          "output_type": "execute_result",
          "data": {
            "text/plain": [
              "\"\\nprint(df['ApplicantIncome'])\\nQ1 = df['ApplicantIncome'].quantile(0.25)\\nQ3 = df['ApplicantIncome'].quantile(0.75)\\n\\nIQR = Q3 - Q1\\nprint(IQR)\\n\\nupper = Q3 + 1.5*IQR\\nlower = Q1 - 1.5*IQR\\n\\nprint(upper)\\nprint(lower)\\n\\nout1=df[df['ApplicantIncome'] < lower].values\\nout2=df[df['ApplicantIncome'] > upper].values\\n\\ndf['ApplicantIncome'].replace(out1,lower,inplace=True)\\ndf['ApplicantIncome'].replace(out2,upper,inplace=True)\\n\\nprint(df['ApplicantIncome'])\\n\""
            ],
            "application/vnd.google.colaboratory.intrinsic+json": {
              "type": "string"
            }
          },
          "metadata": {},
          "execution_count": 9
        }
      ]
    },
    {
      "cell_type": "code",
      "source": [
        "#Principal Component Analysis\n",
        "\n",
        "from sklearn.decomposition import PCA\n",
        "from sklearn.linear_model import LogisticRegression\n",
        "from sklearn.model_selection import train_test_split\n",
        "from sklearn.metrics import accuracy_score\n",
        "import pandas as pd # Import pandas explicitly\n",
        "\n",
        "logr=LogisticRegression()\n",
        "pca=PCA(n_components=2)\n",
        "\n",
        "# Check if 'Loan_Id' exists in df before dropping\n",
        "if 'Loan_Id' in df.columns:\n",
        "    X = df.drop('Loan_Id', axis=1)  # Drop 'Loan_Id' which is non-numerical\n",
        "else:\n",
        "    X = df.copy()  # Create a copy if 'Loan_Id' is already removed\n",
        "\n",
        "# Similarly, check for 'Loan_Status'\n",
        "if 'Loan_Status' in X.columns:\n",
        "    X = X.drop('Loan_Status', axis=1)  # Drop target variable\n",
        "Y = df['Loan_Status']\n",
        "\n",
        "# Convert all columns in X to numerical using one-hot encoding\n",
        "X = pd.get_dummies(X)  # Convert categorical to numerical\n",
        "\n",
        "# Handle remaining NaNs after one-hot encoding\n",
        "X.fillna(X.mode().iloc[0], inplace=True)  # Fill any remaining NaNs with mode\n",
        "\n",
        "pca.fit(X)\n",
        "X=pca.transform(X)\n",
        "\n",
        "print(X)\n",
        "\n",
        "X_train, X_test, y_train, y_test = train_test_split(X,Y,random_state=0,test_size=0.3)\n",
        "\n",
        "logr.fit(X_train,y_train)\n",
        "\n",
        "y_pred=logr.predict(X_test)\n",
        "print(accuracy_score(y_test,y_pred))"
      ],
      "metadata": {
        "colab": {
          "base_uri": "https://localhost:8080/"
        },
        "id": "85dRp8Uhh6eB",
        "outputId": "6626a41d-3680-43dd-c0d0-e00e5f000405"
      },
      "execution_count": 10,
      "outputs": [
        {
          "output_type": "stream",
          "name": "stdout",
          "text": [
            "[[ 0.77581875  0.28339992]\n",
            " [-0.72877487  0.06386271]\n",
            " [-0.28783826  0.06752451]\n",
            " ...\n",
            " [-0.85438202 -0.19223873]\n",
            " [-0.84840921 -0.02064001]\n",
            " [ 1.4869709  -0.76805537]]\n",
            "0.7135135135135136\n"
          ]
        }
      ]
    },
    {
      "cell_type": "code",
      "source": [
        "#Clustering\n",
        "\n",
        "from sklearn.datasets import load_iris\n",
        "from sklearn.model_selection import train_test_split\n",
        "from sklearn.cluster import KMeans\n",
        "\n",
        "KM= KMeans(n_clusters=3, random_state=0)\n",
        "irs=load_iris()\n",
        "x=irs.data\n",
        "\n",
        "X_train,X_test=train_test_split(x,random_state=0)\n",
        "\n",
        "KM.fit(X_train)\n",
        "\n",
        "y_pred=KM.predict(X_test)\n",
        "\n",
        "center=KM.cluster_centers_\n",
        "\n",
        "print(center)\n",
        "print(y_pred)"
      ],
      "metadata": {
        "colab": {
          "base_uri": "https://localhost:8080/"
        },
        "id": "9DmMLbpUh_Wf",
        "outputId": "f337b778-e2e7-4424-927a-ce3a6ad134a1"
      },
      "execution_count": 11,
      "outputs": [
        {
          "output_type": "stream",
          "name": "stdout",
          "text": [
            "[[4.9972973  3.38918919 1.45405405 0.24054054]\n",
            " [5.84390244 2.7097561  4.32926829 1.40731707]\n",
            " [6.90588235 3.09705882 5.70294118 2.07058824]]\n",
            "[1 1 0 2 0 2 0 1 1 1 2 1 1 1 1 0 1 1 0 0 1 1 0 0 1 0 0 1 1 0 2 1 0 1 2 1 0\n",
            " 1]\n"
          ]
        },
        {
          "output_type": "stream",
          "name": "stderr",
          "text": [
            "/usr/local/lib/python3.10/dist-packages/sklearn/cluster/_kmeans.py:870: FutureWarning: The default value of `n_init` will change from 10 to 'auto' in 1.4. Set the value of `n_init` explicitly to suppress the warning\n",
            "  warnings.warn(\n"
          ]
        }
      ]
    },
    {
      "cell_type": "code",
      "source": [
        "import pandas as pd              #pd is an Alias\n",
        "from matplotlib import pyplot as plt\n",
        "import seaborn as sns\n",
        "\n",
        "\n",
        "df=pd.read_csv(\"train.csv\")   # Make sure 'train.csv' contains the 'Loan_Id' column\n",
        "\n",
        "#Preparing X and Y\n",
        "# Check if 'Loan_Id' is in the DataFrame, and drop it along with 'Loan_Status'\n",
        "if 'Loan_Id' in df.columns:\n",
        "    X = df.drop(['Loan_Id', 'Loan_Status'], axis=1)  # Drop both columns at once\n",
        "    Y = df['Loan_Status']\n",
        "else:\n",
        "    print(\"Column 'Loan_Id' not found in the DataFrame. Please check your data.\")\n",
        "\n",
        "'''\n",
        "#Scatter Plot to find correlations between two continuous variables\n",
        "plt.scatter(df[\"PetalLengthCm\"], df[\"PetalWidthCm\"])\n",
        "plt.title(\"Scatter Plot\")\n",
        "plt.xlabel(\"Petal Length\")\n",
        "plt.ylabel(\"Petal Width\")\n",
        "plt.show()\n",
        "'''\n",
        "\n",
        "'''\n",
        "#Histrogram shows the distribution of a continuous variable.  It can discover the frequency distribution for a single variable in a univariate analysis.\n",
        "plt.hist(df[\"SepalWidthCm\"])\n",
        "plt.title(\"Histogram Plot\")\n",
        "plt.xlabel(\"Sepal Width\")\n",
        "plt.ylabel(\"Frequency\")\n",
        "plt.show()\n",
        "'''\n",
        "\n",
        "'''\n",
        "#Bar Chart or Bar Plot is used to represent categorical data with vertical or horizontal bars.\n",
        "sns.barplot(df[\"Species\"], df[\"PetalLengthCm\"])\n",
        "plt.title(\"Bar Plot\")\n",
        "plt.show()\n",
        "'''\n",
        "\n",
        "'''\n",
        "#Pie Chart is a type of plot which is used to represent the proportion of each category in categorical data.\n",
        "mylabels = [\"Iris-setosa\", \"Iris-versicolor\", \"Iris-virginica\"]\n",
        "sizes = [50, 50, 50]\n",
        "plt.pie(sizes, labels=mylabels, explode=(0.1, 0.1, 0.1))\n",
        "plt.axis('equal')\n",
        "plt.show()\n",
        "'''\n",
        "\n",
        "'''\n",
        "#Count Plot s similar to a bar plot except that we only pass the X-axis and Y-axis represents explicitly counting the number of occurrences. Each bar represents count for each category of species.\n",
        "sns.countplot(x='Species', data = df)\n",
        "plt.title(\"Count Plot for Species\")\n",
        "plt.show()\n",
        "'''\n",
        "\n",
        "'''\n",
        "#Box Plot Boxplot is used to show the distribution of a variable. The box plot is a standardized way of displaying the distribution of data based on the five-number summary: minimum, first quartile, median, third quartile, and maximum.\n",
        "sns.boxplot(x='SepalLengthCm', data = df) #if x horizontal and if y vertical\n",
        "plt.title(\"Box plot showing the distribution of Sepal Length\")\n",
        "plt.show()\n",
        "'''\n",
        "\n",
        "\n",
        "#Heatmap is a type of Matrix plot that allows you to plot data as color-encoded matrices. It is mostly used to find multi-collinearity in a dataset.\n",
        "# Calculate correlations on numerical columns only\n",
        "numerical_df = df.select_dtypes(include=['number'])  # Select only numerical columns\n",
        "sns.heatmap(numerical_df.corr())\n",
        "plt.show()"
      ],
      "metadata": {
        "colab": {
          "base_uri": "https://localhost:8080/",
          "height": 574
        },
        "id": "SwaIS-nPiJLm",
        "outputId": "e22aed19-e4e6-4cbb-f015-21272c14e08e"
      },
      "execution_count": 12,
      "outputs": [
        {
          "output_type": "stream",
          "name": "stdout",
          "text": [
            "Column 'Loan_Id' not found in the DataFrame. Please check your data.\n"
          ]
        },
        {
          "output_type": "display_data",
          "data": {
            "text/plain": [
              "<Figure size 640x480 with 2 Axes>"
            ],
            "image/png": "[encoded data removed]"
          },
          "metadata": {}
        }
      ]
    },
    {
      "cell_type": "code",
      "source": [
        "import pandas as pd              #pd is an Alias\n",
        "from matplotlib import pyplot as plt\n",
        "import seaborn as sns\n",
        "\n",
        "# ... (rest of your code)\n",
        "\n",
        "# For categorical variables, use a bar plot or count plot\n",
        "sns.countplot(x='Gender', hue='Married', data=df)  # Countplot with hue for comparison\n",
        "plt.title(\"Count Plot for Gender vs Married\")\n",
        "plt.show()"
      ],
      "metadata": {
        "colab": {
          "base_uri": "https://localhost:8080/",
          "height": 472
        },
        "id": "-GHpPKmBiOEy",
        "outputId": "442bfa4f-03c9-4d8a-8fb4-e9cfcb636dd9"
      },
      "execution_count": 13,
      "outputs": [
        {
          "output_type": "display_data",
          "data": {
            "text/plain": [
              "<Figure size 640x480 with 1 Axes>"
            ],
            "image/png": "[encoded data removed]"
          },
          "metadata": {}
        }
      ]
    },
    {
      "cell_type": "code",
      "source": [
        "import pandas as pd              #pd is an Alias\n",
        "from matplotlib import pyplot as plt\n",
        "import seaborn as sns\n",
        "\n",
        "# ... (rest of your code)\n",
        "\n",
        "# For categorical variables like 'Married', use a count plot\n",
        "sns.countplot(x='Married', data=df)\n",
        "plt.title(\"Count Plot for Married\")\n",
        "plt.xlabel(\"Married Status\")  # More descriptive label\n",
        "plt.ylabel(\"Count\")\n",
        "plt.show()"
      ],
      "metadata": {
        "colab": {
          "base_uri": "https://localhost:8080/",
          "height": 472
        },
        "id": "3CTGruRjiRve",
        "outputId": "6c037845-6bb8-438a-dc2f-7f015e291bcb"
      },
      "execution_count": 14,
      "outputs": [
        {
          "output_type": "display_data",
          "data": {
            "text/plain": [
              "<Figure size 640x480 with 1 Axes>"
            ],
            "image/png": "[encoded data removed]"
          },
          "metadata": {}
        }
      ]
    },
    {
      "cell_type": "code",
      "source": [
        "#Bar Chart or Bar Plot is used to represent categorical data with vertical or horizontal bars.\n",
        "sns.barplot(x=\"Loan_Status\", y=\"Gender\", data=df)  # Use keyword arguments for x and y\n",
        "plt.title(\"Bar Plot\")\n",
        "plt.show()"
      ],
      "metadata": {
        "colab": {
          "base_uri": "https://localhost:8080/",
          "height": 472
        },
        "id": "U6UbU4dtiVu-",
        "outputId": "7163ba29-4924-4a60-f051-ac45c196589f"
      },
      "execution_count": 15,
      "outputs": [
        {
          "output_type": "display_data",
          "data": {
            "text/plain": [
              "<Figure size 640x480 with 1 Axes>"
            ],
            "image/png": "[encoded data removed]"
          },
          "metadata": {}
        }
      ]
    },
    {
      "cell_type": "code",
      "source": [
        "#Pie Chart is a type of plot which is used to represent the proportion of each category in categorical data.\n",
        "mylabels = [\"Urban\", \"Rural\", \"Semiurban\"]\n",
        "sizes = [50, 50, 50]\n",
        "plt.pie(sizes, labels=mylabels, explode=(0.1, 0.1, 0.1))\n",
        "plt.axis('equal')\n",
        "plt.show()"
      ],
      "metadata": {
        "colab": {
          "base_uri": "https://localhost:8080/",
          "height": 406
        },
        "id": "1FXlD33Lh6zo",
        "outputId": "51cd5a0e-28e6-424a-ac55-d993988e24d6"
      },
      "execution_count": 16,
      "outputs": [
        {
          "output_type": "display_data",
          "data": {
            "text/plain": [
              "<Figure size 640x480 with 1 Axes>"
            ],
            "image/png": "[encoded data removed]"
          },
          "metadata": {}
        }
      ]
    },
    {
      "cell_type": "code",
      "source": [
        "#Count Plot s similar to a bar plot except that we only pass the X-axis and Y-axis represents explicitly counting the number of occurrences. Each bar represents count for each category of species.\n",
        "sns.countplot(x='Loan_Status', data = df)\n",
        "plt.title(\"Count Plot for Loan_Status\")\n",
        "plt.show()"
      ],
      "metadata": {
        "colab": {
          "base_uri": "https://localhost:8080/",
          "height": 472
        },
        "id": "H1qklQb2ieEM",
        "outputId": "138da91b-504b-42b4-d251-5865b9798c6b"
      },
      "execution_count": 17,
      "outputs": [
        {
          "output_type": "display_data",
          "data": {
            "text/plain": [
              "<Figure size 640x480 with 1 Axes>"
            ],
            "image/png": "[encoded data removed]"
          },
          "metadata": {}
        }
      ]
    },
    {
      "cell_type": "code",
      "source": [
        "#Box Plot Boxplot is used to show the distribution of a variable. The box plot is a standardized way of displaying the distribution of data based on the five-number summary: minimum, first quartile, median, third quartile, and maximum.\n",
        "sns.boxplot(x='Gender', data = df) #if x horizontal and if y vertical\n",
        "plt.title(\"Box plot showing the distribution of Gender\")\n",
        "plt.show()"
      ],
      "metadata": {
        "colab": {
          "base_uri": "https://localhost:8080/",
          "height": 472
        },
        "id": "wOPH9IStihzU",
        "outputId": "030ef268-a15a-43af-8f31-c5c40156fd0d"
      },
      "execution_count": 18,
      "outputs": [
        {
          "output_type": "display_data",
          "data": {
            "text/plain": [
              "<Figure size 640x480 with 1 Axes>"
            ],
            "image/png": "[encoded data removed]"
          },
          "metadata": {}
        }
      ]
    }
  ]
}