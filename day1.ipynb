{
  "nbformat": 4,
  "nbformat_minor": 0,
  "metadata": {
    "colab": {
      "provenance": [],
      "authorship_tag": "ABX9TyO13KikqqNordzrgXyZCzNv",
      "include_colab_link": true
    },
    "kernelspec": {
      "name": "python3",
      "display_name": "Python 3"
    },
    "language_info": {
      "name": "python"
    }
  },
  "cells": [
    {
      "cell_type": "markdown",
      "metadata": {
        "id": "view-in-github",
        "colab_type": "text"
      },
      "source": [
        "<a href=\"https://colab.research.google.com/github/lavanyamurudkar28/Datascience/blob/main/day1.ipynb\" target=\"_parent\"><img src=\"https://colab.research.google.com/assets/colab-badge.svg\" alt=\"Open In Colab\"/></a>"
      ]
    },
    {
      "cell_type": "code",
      "execution_count": 1,
      "metadata": {
        "colab": {
          "base_uri": "https://localhost:8080/"
        },
        "id": "O-ZA9lsh2oiv",
        "outputId": "097044c5-5f2d-41f0-a4be-b4bfa44106b2"
      },
      "outputs": [
        {
          "output_type": "stream",
          "name": "stdout",
          "text": [
            "hello world\n"
          ]
        }
      ],
      "source": [
        "print(\"hello world\")"
      ]
    },
    {
      "cell_type": "code",
      "source": [
        "x=5\n",
        "y=7\n",
        "m = \"5\"\n",
        "n = \"5\"\n",
        "print(type(x))\n",
        "print(type(y))\n",
        "print(x+y)\n",
        "print(m+n)"
      ],
      "metadata": {
        "colab": {
          "base_uri": "https://localhost:8080/"
        },
        "id": "IeCPvzluCIUk",
        "outputId": "5ce75967-13b8-499a-bd59-491b93550e4a"
      },
      "execution_count": 2,
      "outputs": [
        {
          "output_type": "stream",
          "name": "stdout",
          "text": [
            "<class 'int'>\n",
            "<class 'int'>\n",
            "12\n",
            "55\n"
          ]
        }
      ]
    },
    {
      "cell_type": "code",
      "source": [
        "# typecasting\n",
        "a = 5\n",
        "#typecast to float\n",
        "n = float(a)\n",
        "print(n)\n",
        "print(type(n))\n"
      ],
      "metadata": {
        "colab": {
          "base_uri": "https://localhost:8080/"
        },
        "id": "yNzIvdgqCTMz",
        "outputId": "0cefb916-99c8-4847-f5d1-736b8959c44e"
      },
      "execution_count": 3,
      "outputs": [
        {
          "output_type": "stream",
          "name": "stdout",
          "text": [
            "5.0\n",
            "<class 'float'>\n"
          ]
        }
      ]
    },
    {
      "cell_type": "code",
      "source": [
        "#list\n",
        "l1 = ['hi',1 ,7,'list',6 ,7, 9 ,5 ,[3, 59,'hello']]\n",
        "l2 = l1[8][2]\n",
        "print(l2)\n",
        "length = len(l1)\n",
        "print(length)"
      ],
      "metadata": {
        "colab": {
          "base_uri": "https://localhost:8080/"
        },
        "id": "QmIDmHcmCkeT",
        "outputId": "ca20234a-0295-4a8e-927f-90ea30188897"
      },
      "execution_count": 4,
      "outputs": [
        {
          "output_type": "stream",
          "name": "stdout",
          "text": [
            "hello\n",
            "9\n"
          ]
        }
      ]
    },
    {
      "cell_type": "code",
      "source": [
        "num = []\n",
        "\n",
        "num.append(21)\n",
        "num.append(40.5)\n",
        "\n",
        "print(num)\n"
      ],
      "metadata": {
        "colab": {
          "base_uri": "https://localhost:8080/"
        },
        "id": "AWWwRWVmCrW0",
        "outputId": "d64883da-88b1-45f3-e817-21b03a95e994"
      },
      "execution_count": 5,
      "outputs": [
        {
          "output_type": "stream",
          "name": "stdout",
          "text": [
            "[21, 40.5]\n"
          ]
        }
      ]
    },
    {
      "cell_type": "code",
      "source": [
        "#DICTIONARY\n",
        "student = {\"name\" : \"alice\" , \"age\" : 20, \"major\": \"computer science\"}\n",
        "\n",
        "print(\"name:\", student[\"name\"])\n",
        "print(\"age:\", student[\"age\"])\n",
        "\n",
        "keys = student.keys()\n",
        "values = student.values()\n",
        "items = student.items()\n",
        "\n",
        "print(\"keys:\" , keys)\n",
        "print(\"values:\" , values)\n",
        "print(\"key-value pairs:\" , items)"
      ],
      "metadata": {
        "colab": {
          "base_uri": "https://localhost:8080/"
        },
        "id": "2c1hyBgGCvtj",
        "outputId": "c483e044-cbdb-47b3-ea7e-ca23bfa46f7e"
      },
      "execution_count": 6,
      "outputs": [
        {
          "output_type": "stream",
          "name": "stdout",
          "text": [
            "name: alice\n",
            "age: 20\n",
            "keys: dict_keys(['name', 'age', 'major'])\n",
            "values: dict_values(['alice', 20, 'computer science'])\n",
            "key-value pairs: dict_items([('name', 'alice'), ('age', 20), ('major', 'computer science')])\n"
          ]
        }
      ]
    }
  ]
}